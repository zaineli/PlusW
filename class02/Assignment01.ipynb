{
  "nbformat": 4,
  "nbformat_minor": 0,
  "metadata": {
    "colab": {
      "provenance": []
    },
    "kernelspec": {
      "name": "python3",
      "display_name": "Python 3"
    },
    "language_info": {
      "name": "python"
    }
  },
  "cells": [
    {
      "cell_type": "markdown",
      "source": [
        "## **Task 01**"
      ],
      "metadata": {
        "id": "QD4wzAdZcUmw"
      }
    },
    {
      "cell_type": "code",
      "execution_count": 1,
      "metadata": {
        "colab": {
          "base_uri": "https://localhost:8080/"
        },
        "id": "RR8t5CCzYXYb",
        "outputId": "8e08735b-0ba1-491e-ad74-a1ae5eed4980"
      },
      "outputs": [
        {
          "name": "stdout",
          "output_type": "stream",
          "text": [
            "Enter your first name: Zain\n",
            "Enter your last name: Ali\n"
          ]
        }
      ],
      "source": [
        "firstName = input(\"Enter your first name: \")\n",
        "lastName = input(\"Enter your last name: \")\n"
      ]
    },
    {
      "cell_type": "code",
      "source": [
        "print(firstName.lower() ,lastName.lower())"
      ],
      "metadata": {
        "colab": {
          "base_uri": "https://localhost:8080/"
        },
        "id": "ArHElnsRYpuz",
        "outputId": "d1e8369e-1ce1-4c62-a9b3-519e2b0a75e3"
      },
      "execution_count": 2,
      "outputs": [
        {
          "output_type": "stream",
          "name": "stdout",
          "text": [
            "zain ali\n"
          ]
        }
      ]
    },
    {
      "cell_type": "code",
      "source": [
        "print(len(firstName+lastName))"
      ],
      "metadata": {
        "colab": {
          "base_uri": "https://localhost:8080/"
        },
        "id": "3QamnHUjZAld",
        "outputId": "da9b7d59-428b-4b40-957b-aa4ec93fa64e"
      },
      "execution_count": 3,
      "outputs": [
        {
          "output_type": "stream",
          "name": "stdout",
          "text": [
            "7\n"
          ]
        }
      ]
    },
    {
      "cell_type": "code",
      "source": [
        "first_name = firstName.upper()\n",
        "last_name = lastName.lower()\n",
        "total_letters = len(first_name + last_name)\n",
        "\n",
        "print(f\"First name (upper): {first_name}\")\n",
        "print(f\"Last name (lower): {last_name}\")\n",
        "print(\"Sum of letters in your first and last name:\", total_letters)"
      ],
      "metadata": {
        "colab": {
          "base_uri": "https://localhost:8080/"
        },
        "id": "3KdaHrODcBmh",
        "outputId": "4de053bc-b448-460e-d6f3-50781db71f00"
      },
      "execution_count": 4,
      "outputs": [
        {
          "output_type": "stream",
          "name": "stdout",
          "text": [
            "First name (upper): ZAIN\n",
            "Last name (lower): ali\n",
            "Sum of letters in your first and last name: 7\n"
          ]
        }
      ]
    },
    {
      "cell_type": "markdown",
      "source": [
        "## **Task 2**"
      ],
      "metadata": {
        "id": "TDCUmqvzcTOo"
      }
    },
    {
      "cell_type": "code",
      "source": [
        "print(\"Calculate the area of following shapes:\")\n",
        "print(\"1. Circle\")\n",
        "print(\"2. Rectangle\")\n",
        "print(\"3. Square\")\n",
        "print(\"4. Triangle\")\n",
        "shape = input(\"Find the area of : \")"
      ],
      "metadata": {
        "colab": {
          "base_uri": "https://localhost:8080/"
        },
        "id": "ZaJCaBl6cUFH",
        "outputId": "14e6ec61-1544-4ab7-ce83-e03d601ea8e3"
      },
      "execution_count": 5,
      "outputs": [
        {
          "name": "stdout",
          "output_type": "stream",
          "text": [
            "Calculate the area of following shapes:\n",
            "1. Circle\n",
            "2. Rectangle\n",
            "3. Square\n",
            "4. Triangle\n",
            "Find the area of : Rectangle\n"
          ]
        }
      ]
    },
    {
      "cell_type": "code",
      "source": [
        "radius = float(input(\"Enter the radius of the circle: \"))\n",
        "area = 3.14159 * (radius ** 2)\n",
        "print(f\"The area of the circle is: {area:.2f}\")\n",
        "\n",
        "length = float(input(\"Enter the length of the rectangle: \"))\n",
        "width = float(input(\"Enter the width of the rectangle: \"))\n",
        "area = length * width\n",
        "print(f\"The area of the rectangle is: {area:.2f}\")\n",
        "\n",
        "side = float(input(\"Enter the side length of the square: \"))\n",
        "area = side * side\n",
        "print(f\"The area of the square is: {area:.2f}\")\n",
        "\n",
        "base = float(input(\"Enter the base length of the triangle: \"))\n",
        "height = float(input(\"Enter the height of the triangle: \"))\n",
        "area = 0.5 * base * height\n",
        "print(f\"The area of the triangle is: {area:.2f}\")\n",
        "\n",
        "\n",
        "\n",
        "\n"
      ],
      "metadata": {
        "colab": {
          "base_uri": "https://localhost:8080/"
        },
        "id": "13GUu21lcW8T",
        "outputId": "e17e7ef6-0e57-4ae7-9b82-199931d885eb"
      },
      "execution_count": 6,
      "outputs": [
        {
          "output_type": "stream",
          "name": "stdout",
          "text": [
            "Enter the radius of the circle: 50\n",
            "The area of the circle is: 7853.97\n",
            "Enter the length of the rectangle: 100\n",
            "The area of the rectangle is: 10000.00\n",
            "Enter the side length of the square: 30\n",
            "The area of the square is: 900.00\n",
            "Enter the base length of the triangle: 25\n",
            "Enter the height of the triangle: 25\n",
            "The area of the triangle is: 312.50\n"
          ]
        }
      ]
    },
    {
      "cell_type": "code",
      "source": [
        "import random\n",
        "\n",
        "colors = [\"red\", \"blue\", \"green\", \"yellow\", \"orange\", \"purple\"]"
      ],
      "metadata": {
        "id": "iLUhNxJfeL5G"
      },
      "execution_count": 33,
      "outputs": []
    },
    {
      "cell_type": "code",
      "source": [
        "index = random.randint(0, len(colors) - 1)"
      ],
      "metadata": {
        "id": "bn1R8An5ePTD"
      },
      "execution_count": 34,
      "outputs": []
    },
    {
      "cell_type": "code",
      "source": [
        "selected_color = colors[index]"
      ],
      "metadata": {
        "id": "UxBrqRkweTR_"
      },
      "execution_count": 35,
      "outputs": []
    },
    {
      "source": [
        "def reverse_string(s):\n",
        "  if len(s) == 0:\n",
        "    return s\n",
        "  else:\n",
        "    return reverse_string(s[1:]) + s[0]\n",
        "\n",
        "password = reverse_string(selected_color)"
      ],
      "cell_type": "code",
      "metadata": {
        "id": "94VeOmEAut_6"
      },
      "execution_count": 36,
      "outputs": []
    },
    {
      "cell_type": "code",
      "source": [
        "print(\"Selected Color:\", selected_color)\n",
        "print(\"Generated Password:\", password)"
      ],
      "metadata": {
        "colab": {
          "base_uri": "https://localhost:8080/"
        },
        "id": "S2Kgo0BYeffq",
        "outputId": "0b004780-1e38-4fd3-e4fc-ac77e44672ed"
      },
      "execution_count": 37,
      "outputs": [
        {
          "output_type": "stream",
          "name": "stdout",
          "text": [
            "Selected Color: orange\n",
            "Generated Password: egnaro\n"
          ]
        }
      ]
    }
  ]
}