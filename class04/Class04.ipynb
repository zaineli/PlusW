{
  "nbformat": 4,
  "nbformat_minor": 0,
  "metadata": {
    "colab": {
      "provenance": []
    },
    "kernelspec": {
      "name": "python3",
      "display_name": "Python 3"
    },
    "language_info": {
      "name": "python"
    }
  },
  "cells": [
    {
      "cell_type": "markdown",
      "source": [
        "# Class 4 Pratice"
      ],
      "metadata": {
        "id": "lJWsVFLwDv5h"
      }
    },
    {
      "cell_type": "code",
      "execution_count": 13,
      "metadata": {
        "colab": {
          "base_uri": "https://localhost:8080/"
        },
        "id": "WcWefh1Q59CO",
        "outputId": "68c416a6-7254-4727-b35f-bab32a0e982e"
      },
      "outputs": [
        {
          "output_type": "stream",
          "name": "stdout",
          "text": [
            "This is my function\n"
          ]
        }
      ],
      "source": [
        "def my_func():\n",
        "  print(\"This is my function\")\n",
        "my_func()"
      ]
    },
    {
      "cell_type": "code",
      "source": [
        "def func_num():\n",
        "  return 4\n",
        "\n",
        "temp_var = func_num\n",
        "print(f\"the result from fucntion is {temp_var()}\")"
      ],
      "metadata": {
        "colab": {
          "base_uri": "https://localhost:8080/"
        },
        "id": "XlvJNRY26QmY",
        "outputId": "7e554ecb-940a-4790-df83-7439913da094"
      },
      "execution_count": 14,
      "outputs": [
        {
          "output_type": "stream",
          "name": "stdout",
          "text": [
            "the result from fucntion is 4\n"
          ]
        }
      ]
    },
    {
      "cell_type": "code",
      "source": [
        "def factorial_func(num):\n",
        "  if num==1:\n",
        "    return 1\n",
        "  return num * factorial_func(num - 1)"
      ],
      "metadata": {
        "id": "nig9QA-T6dxU"
      },
      "execution_count": 15,
      "outputs": []
    },
    {
      "cell_type": "code",
      "source": [
        "def outer_func(num):\n",
        "  def inner_func(num):\n",
        "    return num * num\n",
        "  return inner_func\n",
        "\n",
        "t_var = outer_func(5)\n",
        "print(\"the answer is: \", t_var(5))"
      ],
      "metadata": {
        "colab": {
          "base_uri": "https://localhost:8080/"
        },
        "id": "_GsIfqxD8Xdw",
        "outputId": "11ec9848-8e47-406b-d5a7-bfb1ee715552"
      },
      "execution_count": 16,
      "outputs": [
        {
          "output_type": "stream",
          "name": "stdout",
          "text": [
            "the answer is:  25\n"
          ]
        }
      ]
    },
    {
      "cell_type": "code",
      "source": [
        "def hello(name):\n",
        "  \"\"\" this function says hello to any person \"\"\"\n",
        "  print(\"hello: \", name)\n",
        "\n",
        "hello(\"Zain Ali\")\n",
        "print(help(hello))"
      ],
      "metadata": {
        "colab": {
          "base_uri": "https://localhost:8080/"
        },
        "id": "Wjr97g9I8sR4",
        "outputId": "44fb45f6-6277-41f3-a5b7-4118c59e2827"
      },
      "execution_count": 17,
      "outputs": [
        {
          "output_type": "stream",
          "name": "stdout",
          "text": [
            "hello:  Zain Ali\n",
            "Help on function hello in module __main__:\n",
            "\n",
            "hello(name)\n",
            "    this function says hello to any person\n",
            "\n",
            "None\n"
          ]
        }
      ]
    },
    {
      "cell_type": "code",
      "source": [
        "global_var = 10\n",
        "def test_func():\n",
        "  global global_var\n",
        "  global_var = 5\n",
        "  print(\"the global var inside function is: \", global_var)\n",
        "test_func()\n",
        "print(\"the global var is: \", global_var)"
      ],
      "metadata": {
        "colab": {
          "base_uri": "https://localhost:8080/"
        },
        "id": "ha6LHT3Q9_1D",
        "outputId": "eb6ae4a3-12a2-4d03-e347-d2cea82c7edf"
      },
      "execution_count": 18,
      "outputs": [
        {
          "output_type": "stream",
          "name": "stdout",
          "text": [
            "the global var inside function is:  5\n",
            "the global var is:  5\n"
          ]
        }
      ]
    },
    {
      "cell_type": "code",
      "source": [
        "import numpy as np\n",
        "\n",
        "nu_array = np.array([1, 2, 3, 4, 5, 6])\n",
        "\n",
        "print(\"numpy array is: \", nu_array)\n",
        "\n",
        "nu_array = np.zeros((3, 3))\n",
        "\n",
        "print(\"the changed array is: \",nu_array)\n",
        "\n",
        "nu_array = np.ones((5, 4))\n",
        "\n",
        "print(\"the ones array is: \",nu_array)\n",
        "\n",
        "nu_array = np.full((5,3), 8)\n",
        "\n",
        "print(\"the full array is: \",nu_array)\n",
        "\n",
        "nu_array = np.eye(5)\n",
        "\n",
        "print(\"the unit matrix is: \",nu_array)\n",
        "\n",
        "nu_array = np.arange(1,10,2)\n",
        "\n",
        "print(\"the arranged array is: \", nu_array)"
      ],
      "metadata": {
        "colab": {
          "base_uri": "https://localhost:8080/"
        },
        "id": "evG8BliI_IO0",
        "outputId": "00245f9c-f61a-4a2b-9508-2be441c43c3a"
      },
      "execution_count": 19,
      "outputs": [
        {
          "output_type": "stream",
          "name": "stdout",
          "text": [
            "numpy array is:  [1 2 3 4 5 6]\n",
            "the changed array is:  [[0. 0. 0.]\n",
            " [0. 0. 0.]\n",
            " [0. 0. 0.]]\n",
            "the ones array is:  [[1. 1. 1. 1.]\n",
            " [1. 1. 1. 1.]\n",
            " [1. 1. 1. 1.]\n",
            " [1. 1. 1. 1.]\n",
            " [1. 1. 1. 1.]]\n",
            "the full array is:  [[8 8 8]\n",
            " [8 8 8]\n",
            " [8 8 8]\n",
            " [8 8 8]\n",
            " [8 8 8]]\n",
            "the unit matrix is:  [[1. 0. 0. 0. 0.]\n",
            " [0. 1. 0. 0. 0.]\n",
            " [0. 0. 1. 0. 0.]\n",
            " [0. 0. 0. 1. 0.]\n",
            " [0. 0. 0. 0. 1.]]\n",
            "the arranged array is:  [1 3 5 7 9]\n"
          ]
        }
      ]
    },
    {
      "cell_type": "code",
      "source": [
        "random_arr = np.random.rand(3,3)\n",
        "\n",
        "print(random_arr)"
      ],
      "metadata": {
        "colab": {
          "base_uri": "https://localhost:8080/"
        },
        "id": "zb-ZCeY0BMyT",
        "outputId": "31d071e9-a865-451d-9be7-340fe08ba18f"
      },
      "execution_count": 20,
      "outputs": [
        {
          "output_type": "stream",
          "name": "stdout",
          "text": [
            "[[0.91518688 0.38484285 0.65912927]\n",
            " [0.25856472 0.02750691 0.03164857]\n",
            " [0.75226093 0.21903277 0.58098728]]\n"
          ]
        }
      ]
    },
    {
      "cell_type": "code",
      "source": [
        "random_arr = np.random.randint(1,15,(3,3))\n",
        "print(random_arr)"
      ],
      "metadata": {
        "colab": {
          "base_uri": "https://localhost:8080/"
        },
        "id": "yzsC61W2D0is",
        "outputId": "0aa31645-d489-4fc8-ff92-ef7eaa7ecfb4"
      },
      "execution_count": 21,
      "outputs": [
        {
          "output_type": "stream",
          "name": "stdout",
          "text": [
            "[[ 2  4 10]\n",
            " [13  3 12]\n",
            " [ 7  7  2]]\n"
          ]
        }
      ]
    },
    {
      "cell_type": "code",
      "source": [
        "random_arr = np.random.randint(1,15,(3,3))\n",
        "print(\"random arrays: \",random_arr)\n",
        "print(\"its shape is :\", random_arr.shape)"
      ],
      "metadata": {
        "colab": {
          "base_uri": "https://localhost:8080/"
        },
        "id": "O369JSuGEHsI",
        "outputId": "b96d640c-a347-40c3-ae99-6bd7bd70e387"
      },
      "execution_count": 22,
      "outputs": [
        {
          "output_type": "stream",
          "name": "stdout",
          "text": [
            "random arrays:  [[ 4 13  2]\n",
            " [ 3 11 12]\n",
            " [ 5  3 12]]\n",
            "its shape is : (3, 3)\n"
          ]
        }
      ]
    },
    {
      "cell_type": "code",
      "source": [
        "t_var = np.array([1, 2, 3, 4, 5, 6])\n",
        "t_var = t_var.reshape(2,3)\n",
        "print(\"rearranged t_var is: \",t_var)"
      ],
      "metadata": {
        "colab": {
          "base_uri": "https://localhost:8080/"
        },
        "id": "5ugMSP3EEerM",
        "outputId": "eaac6724-bd90-445a-8490-536a22d5b3d6"
      },
      "execution_count": 23,
      "outputs": [
        {
          "output_type": "stream",
          "name": "stdout",
          "text": [
            "rearranged t_var is:  [[1 2 3]\n",
            " [4 5 6]]\n"
          ]
        }
      ]
    },
    {
      "cell_type": "code",
      "source": [
        "arr1 = np.array([1, 2, 3, 4, 5])\n",
        "arr2 = np.array([2, 2, 2, 2, 2])\n",
        "\n",
        "print(\"the sum of both arrays is: \", arr1 + arr2)\n",
        "print(\"the sqrt of array 2 is: \", np.sqrt(arr2))\n",
        "print(\"the minimum of array1 is: \", np.min(arr1))"
      ],
      "metadata": {
        "colab": {
          "base_uri": "https://localhost:8080/"
        },
        "id": "gaDIhrjrEw5Y",
        "outputId": "15abcfeb-d531-4eb3-e46a-6074e6b0e860"
      },
      "execution_count": 24,
      "outputs": [
        {
          "output_type": "stream",
          "name": "stdout",
          "text": [
            "the sum of both arrays is:  [3 4 5 6 7]\n",
            "the sqrt of array 2 is:  [1.41421356 1.41421356 1.41421356 1.41421356 1.41421356]\n",
            "the minimum of array1 is:  1\n"
          ]
        }
      ]
    }
  ]
}